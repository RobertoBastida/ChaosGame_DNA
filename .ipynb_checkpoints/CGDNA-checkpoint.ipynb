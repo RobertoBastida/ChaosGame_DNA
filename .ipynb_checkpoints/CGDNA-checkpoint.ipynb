{
 "cells": [
  {
   "cell_type": "markdown",
   "metadata": {},
   "source": [
    "<center><h1>Dimensión fractal en diferentes conjuntos</h1></center>\n",
    "\n",
    "Se calcula la dimensión de Minkowski-Bouligand de diferentes conjuntos:\n",
    "\n",
    "- Una recta.\n",
    "- Un cuadrado.\n",
    "- Triángulo de Sierpinski.\n",
    "- Código de barras.\n",
    "- Juego del caos en una subcadena del cromosoma 19.\n",
    "- Juego del caos en una cadena aleatoria con el mismo diccionario del DNA.\n",
    "\n",
    "Todos ellos con el mismo número de elementos. Inicialmente se hizo para 1,000,000 puntos aunque este número puede modificarse cambiando el valor de la variable <i>length</i>."
   ]
  },
  {
   "cell_type": "code",
   "execution_count": 3,
   "metadata": {},
   "outputs": [],
   "source": [
    "import sys\n",
    "sys.path.insert(0, \"Scripts\")\n",
    "\n",
    "from libraries import *\n",
    "from fractal_dimension import *"
   ]
  },
  {
   "cell_type": "code",
   "execution_count": 4,
   "metadata": {},
   "outputs": [],
   "source": [
    "length = 1000000"
   ]
  },
  {
   "cell_type": "markdown",
   "metadata": {},
   "source": [
    "## Comparación entre conteo de cajas y dimensión topológica\n",
    "\n",
    "La recta, el cuadrado y el triángulo de Sierpinski tienen dimensiones: $1,2$ y $1.584$, respectivamente. Se calcula la dimensión de Minkowski-Bouligand para estos tres conjuntos. "
   ]
  },
  {
   "cell_type": "markdown",
   "metadata": {},
   "source": [
    "## Recta\n",
    "\n",
    "Una recta horizontal"
   ]
  },
  {
   "cell_type": "code",
   "execution_count": null,
   "metadata": {},
   "outputs": [],
   "source": [
    "# Generación de coordinadas\n",
    "line_x = np.linspace(0,1,length)\n",
    "line_y = [0.5 for x in line_x]\n",
    "\n",
    "# Graficación del conjunto\n",
    "plt.scatter(line_x,line_y,s=0.00005)\n",
    "plt.axis('equal')\n",
    "plt.axis('off')\n",
    "# Descomentar la siguiente línea de código para guardar la figura\n",
    "#plt.savefig(\"ilustraciones/plot/Otros/{}\".format(\"recta\"),dpi=150)\n",
    "plt.show()\n",
    "plt.clf()\n",
    "\n",
    "# Cálculo de la dimensión\n",
    "Line_dimension = Frac_dimension_computation_name_path(line_x,line_y,\"Recta\",\"ilustraciones/dim/Otros/Recta\")"
   ]
  },
  {
   "cell_type": "markdown",
   "metadata": {},
   "source": [
    "## Cuadrado\n",
    "\n",
    "Generación de puntos aleatorios dentro de un cuadrado"
   ]
  },
  {
   "cell_type": "code",
   "execution_count": null,
   "metadata": {},
   "outputs": [],
   "source": [
    "# La generación de los puntos aleatorios\n",
    "rec_coordinates = np.random.rand(length,2)\n",
    "\n",
    "# Seleccionamos las x,y como listas\n",
    "rec_x = rec_coordinates[:,0]\n",
    "rec_y = rec_coordinates[:,1]\n",
    "\n",
    "# Graficamos para visualizar el conjunto\n",
    "plt.scatter(rec_x,rec_y,s=0.00005)\n",
    "plt.axis('equal')\n",
    "plt.axis('off')\n",
    "\n",
    "# Descomentar para guardar la gráfica\n",
    "#plt.savefig(\"ilustraciones/plot/Otros/{}\".format(\"cuadrado\"),dpi=150)\n",
    "plt.show()\n",
    "plt.clf()\n",
    "\n",
    "# Dimensión\n",
    "Square_dimension = Frac_dimension_computation_name_path(rec_x,rec_y,\"Cuadrado\",\"ilustraciones/dim/Otros/Cuadrado\")"
   ]
  },
  {
   "cell_type": "markdown",
   "metadata": {},
   "source": [
    "# Juego del caos\n",
    "\n",
    "Probamos ahora el correcto funcionamiento de las librerías desarrolladas específicamente para medir la dimensión fractal de conjuntos generados a partir del juego del caos en dos diferentes escenarios: El triángulo de Sierpinski"
   ]
  },
  {
   "cell_type": "code",
   "execution_count": null,
   "metadata": {},
   "outputs": [],
   "source": [
    "sier_x,sier_y = SFI.Sierpinski_coordinates(Iteraciones=length)\n",
    "\n",
    "plt.scatter(sier_x,sier_y,s=0.00005)\n",
    "plt.axis('off')\n",
    "# Decomentar para graficar\n",
    "#plt.savefig(\"ilustraciones/plot/Otros/{}\".format(\"sierpinski\"),dpi=150)\n",
    "plt.show()\n",
    "plt.clf()\n",
    "\n",
    "# Dimensión\n",
    "Sierpinski_dimension = Frac_dimension_computation_name_path(sier_x,sier_y,\n",
    "                                                            \"Sierpinski\",\"ilustraciones/dim/Otros/Sierpinski\")"
   ]
  },
  {
   "cell_type": "markdown",
   "metadata": {},
   "source": [
    "## Código de barras"
   ]
  },
  {
   "cell_type": "code",
   "execution_count": null,
   "metadata": {},
   "outputs": [],
   "source": [
    "# Generación del conjunto\n",
    "line_r_x = sorted(sier_x)\n",
    "line_r_y = [0.5 + 1*(np.random.rand()) for x in line_r_x]\n",
    "\n",
    "# Graficación\n",
    "plt.scatter(line_r_x,line_r_y,s=0.00005)\n",
    "plt.axis('equal')\n",
    "plt.axis('off')\n",
    "#plt.savefig(\"ilustraciones/plot/Otros/{}\".format(\"barcode\"),dpi=150)\n",
    "plt.show()\n",
    "plt.clf()\n",
    "\n",
    "# Dimensión\n",
    "Barcode_dimension = Frac_dimension_computation_name_path(line_r_x,line_r_y,\n",
    "                                                         \"Barcode\",\n",
    "                                                         \"ilustraciones/dim/Otros/Código de barras\")"
   ]
  },
  {
   "cell_type": "markdown",
   "metadata": {},
   "source": [
    "## Genoma humano\n",
    "\n",
    "Juego del caos en una subcadena del cromosoma 19 y el arreglo de vértices dado por el diccionario <i>Dic_2</i>."
   ]
  },
  {
   "cell_type": "code",
   "execution_count": null,
   "metadata": {},
   "outputs": [],
   "source": [
    "Dic_2 = {'A':(0,0),'C':(1,0),'G':(1,1),'T':(0,1)}"
   ]
  },
  {
   "cell_type": "code",
   "execution_count": null,
   "metadata": {},
   "outputs": [],
   "source": [
    "Chr = \"chr_19_.txt\"\n",
    "Str_Chr = load_txt_file(\"data/\",Chr)\n",
    "\n",
    "# trimming the string to a length of maximum 1,000,000 nucleotides\n",
    "CG_Chr = chaos_game_chromosome(Str_Chr[0:min(len(Str_Chr),length)],Dic_2)\n",
    "\n",
    "# grabbing the coordinates\n",
    "CG_x = [i[0] for i in CG_Chr]\n",
    "CG_y = [i[1] for i in CG_Chr]\n",
    "\n",
    "# Plotting \n",
    "plt.scatter(CG_x,CG_y,s=0.0000125)\n",
    "plt.axis('equal')\n",
    "plt.axis('off')\n",
    "# plt.savefig(\"ilustraciones/plot/ch19/{}.png\".format(Chr.split(\".\")[0]),dpi=200)\n",
    "plt.show()\n",
    "plt.clf()\n",
    "\n",
    "Chr_19_Fd = Frac_dimension_computation_name_path(CG_x,CG_y,\n",
    "                                                 Chr.split(\".\")[0],\n",
    "                                                 \"ilustraciones/dim/ch19/{}\".format(Chr.split(\".\")[0]))"
   ]
  },
  {
   "cell_type": "markdown",
   "metadata": {},
   "source": [
    "## Cadena de aleatoria de caracteres\n",
    "\n",
    "A partir del diccionario de nucleótidos, se genera una cadena de letras generadas aleatoreamente con distribución de probabilidad uniforme."
   ]
  },
  {
   "cell_type": "code",
   "execution_count": null,
   "metadata": {},
   "outputs": [],
   "source": [
    "Str_Chr = random_nuc(length)\n",
    "\n",
    "# trimming the string to a length of maximum 1,000,000 nucleotides\n",
    "CG_Chr = chaos_game_chromosome(Str_Chr[0:min(len(Str_Chr),length)],Dic_2)\n",
    "\n",
    "# grabbing the coordinates\n",
    "CG_x = [i[0] for i in CG_Chr]\n",
    "CG_y = [i[1] for i in CG_Chr]\n",
    "\n",
    "plt.scatter(CG_x,CG_y,s=0.0000125)\n",
    "plt.axis('equal')\n",
    "plt.axis('off')\n",
    "# plt.savefig(\"ilustraciones/plot/random/{}.png\".format(\"random\"),dpi=200)\n",
    "plt.show()\n",
    "plt.clf()\n",
    "\n",
    "Chr_19_Fd = Frac_dimension_computation_name_path(CG_x,CG_y,\n",
    "                                                 \"random\",\n",
    "                                                 \"ilustraciones/dim/random/{}\".format(\"random\"))"
   ]
  },
  {
   "cell_type": "code",
   "execution_count": null,
   "metadata": {},
   "outputs": [],
   "source": [
    "h = [0,1,2,4,5]"
   ]
  },
  {
   "cell_type": "code",
   "execution_count": null,
   "metadata": {},
   "outputs": [],
   "source": [
    "h[2:]"
   ]
  },
  {
   "cell_type": "code",
   "execution_count": null,
   "metadata": {},
   "outputs": [],
   "source": [
    "1 - 8**2"
   ]
  },
  {
   "cell_type": "code",
   "execution_count": null,
   "metadata": {},
   "outputs": [],
   "source": []
  },
  {
   "cell_type": "code",
   "execution_count": 28,
   "metadata": {},
   "outputs": [],
   "source": [
    "henon_equis,henon_ye = henon(length,a=1.4,b=0.3,x0=0.5)"
   ]
  },
  {
   "cell_type": "code",
   "execution_count": 29,
   "metadata": {},
   "outputs": [
    {
     "data": {
      "text/plain": [
       "<matplotlib.collections.PathCollection at 0x7fb1158c24c0>"
      ]
     },
     "execution_count": 29,
     "metadata": {},
     "output_type": "execute_result"
    },
    {
     "data": {
      "image/png": "[encoded data removed]",
      "text/plain": [
       "<Figure size 432x288 with 1 Axes>"
      ]
     },
     "metadata": {
      "needs_background": "light"
     },
     "output_type": "display_data"
    }
   ],
   "source": [
    "plt.scatter(henon_equis,henon_ye)"
   ]
  },
  {
   "cell_type": "code",
   "execution_count": 27,
   "metadata": {},
   "outputs": [],
   "source": [
    "def henon(iterations,a=1.4,b=0.3,x0=0.5):\n",
    "    \"\"\"\n",
    "    Calcula las coordenadas del mapa de henón\n",
    "    \"\"\"\n",
    "    ye = [b*x0]\n",
    "    equis = [1 - a*(x0*x0) + ye[-1]]\n",
    "    \n",
    "    for i in range(iterations-1):\n",
    "        ye.append(b*equis[-1])\n",
    "        equis.append(1 - a*(equis[-1]*equis[-1]) + ye[-1])\n",
    "    return equis,ye"
   ]
  },
  {
   "cell_type": "code",
   "execution_count": null,
   "metadata": {},
   "outputs": [],
   "source": []
  }
 ],
 "metadata": {
  "kernelspec": {
   "display_name": "Python 3",
   "language": "python",
   "name": "python3"
  },
  "language_info": {
   "codemirror_mode": {
    "name": "ipython",
    "version": 3
   },
   "file_extension": ".py",
   "mimetype": "text/x-python",
   "name": "python",
   "nbconvert_exporter": "python",
   "pygments_lexer": "ipython3",
   "version": "3.8.2"
  }
 },
 "nbformat": 4,
 "nbformat_minor": 4
}
