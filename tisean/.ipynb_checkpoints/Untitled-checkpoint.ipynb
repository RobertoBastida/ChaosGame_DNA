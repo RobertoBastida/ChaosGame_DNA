{
 "cells": [
  {
   "cell_type": "code",
   "execution_count": 5,
   "metadata": {},
   "outputs": [],
   "source": [
    "import sys\n",
    "sys.path.insert(0, \"../Scripts\")\n",
    "\n",
    "from libraries import *\n",
    "from fractal_dimension import *"
   ]
  },
  {
   "cell_type": "code",
   "execution_count": 6,
   "metadata": {},
   "outputs": [],
   "source": [
    "import numpy as np\n",
    "from sklearn.linear_model import LinearRegression\n",
    "\n",
    "model = LinearRegression()"
   ]
  },
  {
   "cell_type": "code",
   "execution_count": 10,
   "metadata": {},
   "outputs": [],
   "source": [
    "datContent = [i.strip().split() for i in open(\"data_dna.dat.box\").readlines()]"
   ]
  },
  {
   "cell_type": "code",
   "execution_count": 19,
   "metadata": {},
   "outputs": [],
   "source": [
    "datoss = np.array(datContent[-21:-1])"
   ]
  },
  {
   "cell_type": "code",
   "execution_count": 23,
   "metadata": {},
   "outputs": [
    {
     "data": {
      "text/plain": [
       "array([['1.000000e+00', '-0.000000e+00', '0.000000e+00'],\n",
       "       ['4.832930e-01', '6.581268e+00', '6.169772e-01'],\n",
       "       ['2.335721e-01', '7.519882e+00', '6.277861e-01'],\n",
       "       ['1.623777e-01', '7.812756e+00', '6.169672e-01'],\n",
       "       ['1.128838e-01', '8.124929e+00', '5.978711e-01'],\n",
       "       ['7.847600e-02', '8.437818e+00', '5.838782e-01'],\n",
       "       ['5.455595e-02', '8.802447e+00', '5.512144e-01'],\n",
       "       ['3.792690e-02', '9.168283e+00', '5.226727e-01'],\n",
       "       ['2.636651e-02', '9.373347e+00', '4.848841e-01'],\n",
       "       ['1.832981e-02', '9.697280e+00', '4.296634e-01'],\n",
       "       ['1.274275e-02', '9.895520e+00', '3.902730e-01'],\n",
       "       ['8.858668e-03', '1.014357e+01', '3.363759e-01'],\n",
       "       ['6.158482e-03', '1.014357e+01', '3.363759e-01'],\n",
       "       ['4.281332e-03', '1.014357e+01', '3.363759e-01'],\n",
       "       ['2.976351e-03', '1.014357e+01', '3.363759e-01'],\n",
       "       ['2.069138e-03', '1.014357e+01', '3.363759e-01'],\n",
       "       ['1.438450e-03', '1.014357e+01', '3.363759e-01'],\n",
       "       ['1.000000e-03', '1.014357e+01', '3.363759e-01'],\n",
       "       ['6.951928e-04', '1.014357e+01', '3.363759e-01'],\n",
       "       ['4.832930e-04', '1.014357e+01', '3.363759e-01']], dtype='<U13')"
      ]
     },
     "execution_count": 23,
     "metadata": {},
     "output_type": "execute_result"
    }
   ],
   "source": [
    "datoss"
   ]
  },
  {
   "cell_type": "code",
   "execution_count": 22,
   "metadata": {},
   "outputs": [
    {
     "data": {
      "text/plain": [
       "array(['1.000000e+00', '4.832930e-01', '2.335721e-01', '1.623777e-01',\n",
       "       '1.128838e-01', '7.847600e-02', '5.455595e-02', '3.792690e-02',\n",
       "       '2.636651e-02', '1.832981e-02', '1.274275e-02', '8.858668e-03',\n",
       "       '6.158482e-03', '4.281332e-03', '2.976351e-03', '2.069138e-03',\n",
       "       '1.438450e-03', '1.000000e-03', '6.951928e-04', '4.832930e-04'],\n",
       "      dtype='<U13')"
      ]
     },
     "execution_count": 22,
     "metadata": {},
     "output_type": "execute_result"
    }
   ],
   "source": [
    "np.transpose(datoss)[0]"
   ]
  },
  {
   "cell_type": "code",
   "execution_count": null,
   "metadata": {},
   "outputs": [],
   "source": [
    "model_inicial = LinearRegression()\n",
    "model_inicial.fit(x_initial, y_initial)\n",
    "model_inicial = LinearRegression().fit(x_initial, y_initial)\n",
    "\n",
    "r_sq = model_inicial.score(x_initial, y_initial)\n",
    "\n",
    "plt.scatter(x_initial,y_initial)"
   ]
  },
  {
   "cell_type": "code",
   "execution_count": null,
   "metadata": {},
   "outputs": [],
   "source": []
  }
 ],
 "metadata": {
  "kernelspec": {
   "display_name": "Python 3",
   "language": "python",
   "name": "python3"
  },
  "language_info": {
   "codemirror_mode": {
    "name": "ipython",
    "version": 3
   },
   "file_extension": ".py",
   "mimetype": "text/x-python",
   "name": "python",
   "nbconvert_exporter": "python",
   "pygments_lexer": "ipython3",
   "version": "3.8.2"
  }
 },
 "nbformat": 4,
 "nbformat_minor": 4
}
